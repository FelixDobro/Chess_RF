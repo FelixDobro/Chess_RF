{
 "cells": [
  {
   "metadata": {
    "ExecuteTime": {
     "end_time": "2025-05-10T11:46:32.867370Z",
     "start_time": "2025-05-10T11:46:32.850648Z"
    }
   },
   "cell_type": "code",
   "source": [
    "import os\n",
    "import multiprocessing\n",
    "\n",
    "# Logische Kerne (inkl. Hyperthreading)\n",
    "logical_cores = os.cpu_count()\n",
    "\n",
    "# Physische Kerne (echte Kerne, ohne Hyperthreading)\n",
    "physical_cores = multiprocessing.cpu_count()\n",
    "\n",
    "print(f\"Logische Kerne: {logical_cores}\")\n",
    "print(f\"Physische Kerne: {physical_cores}\")\n"
   ],
   "id": "b0bc653d5e62203c",
   "outputs": [
    {
     "name": "stdout",
     "output_type": "stream",
     "text": [
      "Logische Kerne: 20\n",
      "Physische Kerne: 20\n"
     ]
    }
   ],
   "execution_count": 1
  }
 ],
 "metadata": {
  "kernelspec": {
   "display_name": "Python 3",
   "language": "python",
   "name": "python3"
  },
  "language_info": {
   "codemirror_mode": {
    "name": "ipython",
    "version": 2
   },
   "file_extension": ".py",
   "mimetype": "text/x-python",
   "name": "python",
   "nbconvert_exporter": "python",
   "pygments_lexer": "ipython2",
   "version": "2.7.6"
  }
 },
 "nbformat": 4,
 "nbformat_minor": 5
}
